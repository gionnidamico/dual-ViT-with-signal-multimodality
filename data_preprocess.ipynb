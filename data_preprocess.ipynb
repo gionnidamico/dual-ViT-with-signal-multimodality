{
 "cells": [
  {
   "cell_type": "code",
   "execution_count": 9,
   "metadata": {},
   "outputs": [],
   "source": [
    "import pandas as pd\n",
    "import os\n",
    "import re\n"
   ]
  },
  {
   "cell_type": "markdown",
   "metadata": {},
   "source": [
    "# Data"
   ]
  },
  {
   "cell_type": "markdown",
   "metadata": {},
   "source": [
    "### Raw Data"
   ]
  },
  {
   "cell_type": "code",
   "execution_count": 10,
   "metadata": {},
   "outputs": [],
   "source": [
    "# Data parameters\n",
    "N_SUBJECTS = 11             # a folder for each subject\n",
    "INVALID_SUBJECTS = [6, 7]   # these subjects have missing data and will be ignored\n",
    "N_TRIALS = 42               # 6 repetitions of 7 gestures, the number of csv files in each subject folder\n",
    "N_REPETITIONS = 6           # repetitions of gestures in each trial\n",
    "N_GESTURES = 7              # number of gestures (which we will try to classify) \n",
    "# Instrumentation parameters\n",
    "EEG_SAMPLING_RATE = 250     # Hz, or how many points are recorded per second\n",
    "EMG_SAMPLING_RATE = 200     # Hz, or how many points are recorded per second"
   ]
  },
  {
   "cell_type": "code",
   "execution_count": 12,
   "metadata": {},
   "outputs": [],
   "source": [
    "# import data from csv files into a list of dataframes with all informations\n",
    "def import_data(path, transpose=False):\n",
    "\n",
    "    dataframes = []\n",
    "    # iterate over all subjects \n",
    "    valid_subjects_range = [i for i in range(1, N_SUBJECTS) if i not in INVALID_SUBJECTS]\n",
    "    for subject in valid_subjects_range:\n",
    "        folder = os.path.join(path, f'subject_{subject}')\n",
    "        for file in os.listdir(folder):\n",
    "            # grab file paths and names and ensure they are in valid format\n",
    "            file_path = os.path.join(folder, file)\n",
    "            assert os.path.isfile(file_path), f\"File {file_path} is invalid!\"    \n",
    "            assert file.endswith('.csv'), f\"File {file_path} is not a csv file!\" \n",
    "            assert re.match(r\"^S\\d+_R\\d+_G\\d+\\.csv$\", file), f\"Filename {file} does not match the expected pattern!\"    # pattern: SX_RX_GX.csv, where X is a digit      \n",
    "            \n",
    "            # grab subject, trial, and gesture numbers\n",
    "            subject, trial, gesture = re.search(r\"S(\\d+)_R(\\d+)_G(\\d+).csv\", file).groups()\n",
    "\n",
    "            # transpose the data if it's EEG data\n",
    "            dataframe = pd.read_csv(file_path).transpose() if transpose else pd.read_csv(file_path)\n",
    "            \n",
    "            # If column names are missing, rename them to \"channel_X\" \n",
    "            # This happens for EEG data, but we ensure that the column names will be the same for all dataframes\n",
    "            dataframe.columns = [f\"channel_{i+1}\" for i in range(len(dataframe.columns))]\n",
    "\n",
    "            # append data with subject, trial, and gesture numbers\n",
    "            dataframe_entry = {'subject': subject, 'trial': trial, 'gesture': gesture, 'data': dataframe}\n",
    "            dataframes.append(dataframe_entry)\n",
    "\n",
    "    return dataframes\n",
    "\n",
    "raw_eeg_data = import_data('original EEG Data', transpose=True)\n",
    "raw_emg_data = import_data('original EMG Data', transpose=False)\n"
   ]
  },
  {
   "cell_type": "code",
   "execution_count": 13,
   "metadata": {},
   "outputs": [
    {
     "name": "stdout",
     "output_type": "stream",
     "text": [
      "Number of EEG dataframes: 336\n",
      "<class 'pandas.core.frame.DataFrame'>\n",
      "Index: 1349 entries, 0 to 1348\n",
      "Data columns (total 8 columns):\n",
      " #   Column     Non-Null Count  Dtype  \n",
      "---  ------     --------------  -----  \n",
      " 0   channel_1  1349 non-null   float64\n",
      " 1   channel_2  1349 non-null   float64\n",
      " 2   channel_3  1349 non-null   float64\n",
      " 3   channel_4  1349 non-null   float64\n",
      " 4   channel_5  1349 non-null   float64\n",
      " 5   channel_6  1349 non-null   float64\n",
      " 6   channel_7  1349 non-null   float64\n",
      " 7   channel_8  1349 non-null   float64\n",
      "dtypes: float64(8)\n",
      "memory usage: 94.9+ KB\n",
      "\n",
      "-----------------------------------\n",
      "\n",
      "Number of EMG dataframes: 336\n",
      "<class 'pandas.core.frame.DataFrame'>\n",
      "RangeIndex: 1592 entries, 0 to 1591\n",
      "Data columns (total 8 columns):\n",
      " #   Column     Non-Null Count  Dtype\n",
      "---  ------     --------------  -----\n",
      " 0   channel_1  1592 non-null   int64\n",
      " 1   channel_2  1592 non-null   int64\n",
      " 2   channel_3  1592 non-null   int64\n",
      " 3   channel_4  1592 non-null   int64\n",
      " 4   channel_5  1592 non-null   int64\n",
      " 5   channel_6  1592 non-null   int64\n",
      " 6   channel_7  1592 non-null   int64\n",
      " 7   channel_8  1592 non-null   int64\n",
      "dtypes: int64(8)\n",
      "memory usage: 99.6 KB\n"
     ]
    }
   ],
   "source": [
    "# inspect the raw data\n",
    "print(f\"Number of EEG dataframes: {len(raw_eeg_data)}\")\n",
    "raw_eeg_data[0][\"data\"].info()\n",
    "print(\"\\n-----------------------------------\\n\")\n",
    "print(f\"Number of EMG dataframes: {len(raw_emg_data)}\")\n",
    "raw_emg_data[0][\"data\"].info()"
   ]
  },
  {
   "cell_type": "markdown",
   "metadata": {},
   "source": [
    "### Preprocess Data"
   ]
  },
  {
   "cell_type": "code",
   "execution_count": null,
   "metadata": {},
   "outputs": [
    {
     "data": {
      "text/plain": [
       "9"
      ]
     },
     "execution_count": 15,
     "metadata": {},
     "output_type": "execute_result"
    }
   ],
   "source": [
    "# Create windows of data by cutting the dataframes into smaller windows, starting from the middle\n",
    "# This is done to account for start/stop delays in the data collection due to manual start/stop of the recording\n",
    "def create_windows(dataframe:pd.DataFrame, window_size:int, step_size:int, n_windows:int=1):\n",
    "    assert window_size <= len(dataframe), \"Window size must be less than or equal to the length of the dataframe\"\n",
    "    assert step_size <= window_size, \"Step size must be less than or equal to the window size\"\n",
    "    assert n_windows > 0 and n_windows%2 != 0, \"Number of windows must be greater than 0 and odd\"   \n",
    "    assert (n_windows - 1) * step_size + window_size <= len(dataframe), \"The number of windows and step size are too large for the dataframe\"\n",
    "    \"\"\"\n",
    "    dataframe: a pandas DataFrame to be cut into windows\n",
    "    window_size: size of each window to be created\n",
    "    step_size: the step size to move the window\n",
    "    n_windows: number of windows to be created (take into account that the middle window is the center of the dataframe, therefore it must be an odd number)\n",
    "    \"\"\"\n",
    "\n",
    "    windows = []\n",
    "    half_window = window_size // 2      # Half of the window size to center it\n",
    "    middle_point = len(dataframe)//2    # middle index of the dataframe\n",
    "\n",
    "    # Create the middle (main) window\n",
    "    start_idx = max(0, middle_point - half_window)\n",
    "    end_idx = min(len(dataframe), middle_point + half_window)\n",
    "    windows.append(dataframe.iloc[start_idx:end_idx])\n",
    "\n",
    "    # Generate remaining windows moving outward both ways from the middle window\n",
    "    left_idx, right_idx = middle_point - step_size, middle_point + step_size\n",
    "    count = 1  # We've already created one window, the main one\n",
    "\n",
    "    while count < n_windows:\n",
    "       # Create another window on the left\n",
    "       if left_idx - half_window >= 0:  \n",
    "           windows.append(dataframe.iloc[left_idx - half_window:left_idx + half_window])\n",
    "           count += 1\n",
    "       # Create another window on the right\n",
    "       if count < n_windows and right_idx + half_window <= len(dataframe):  \n",
    "           windows.append(dataframe.iloc[right_idx - half_window:right_idx + half_window])\n",
    "           count += 1\n",
    "\n",
    "       left_idx -= step_size\n",
    "       right_idx += step_size\n",
    "\n",
    "\n",
    "    return windows\n",
    "\n",
    "# Example usage: create example windows of 1s of data with 50% overlap:\n",
    "# len(create_windows(raw_eeg_data[0][\"data\"], EEG_SAMPLING_RATE, int(EEG_SAMPLING_RATE/2), 9))     \n",
    "# len(create_windows(raw_emg_data[0][\"data\"], EMG_SAMPLING_RATE, int(EMG_SAMPLING_RATE/2), 9))"
   ]
  },
  {
   "cell_type": "code",
   "execution_count": null,
   "metadata": {},
   "outputs": [],
   "source": [
    "# data_dict = {}\n",
    "\n",
    "# for (eeg_index, eeg_row), (emg_index, emg_row) in zip(raw_eeg_data.iterrows(), raw_emg_data.iterrows()): \n",
    "#     eeg_windows = create_windows(eeg_row, EEG_SAMPLING_RATE, int(EEG_SAMPLING_RATE/2), 9)\n",
    "#     emg_windows = create_windows(emg_row, EMG_SAMPLING_RATE, int(EMG_SAMPLING_RATE/2), 9)\n",
    "    \n",
    "    "
   ]
  }
 ],
 "metadata": {
  "kernelspec": {
   "display_name": "vision",
   "language": "python",
   "name": "python3"
  },
  "language_info": {
   "codemirror_mode": {
    "name": "ipython",
    "version": 3
   },
   "file_extension": ".py",
   "mimetype": "text/x-python",
   "name": "python",
   "nbconvert_exporter": "python",
   "pygments_lexer": "ipython3",
   "version": "3.8.20"
  }
 },
 "nbformat": 4,
 "nbformat_minor": 2
}
