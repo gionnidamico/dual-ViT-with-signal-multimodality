{
 "cells": [
  {
   "cell_type": "code",
   "execution_count": 1,
   "metadata": {},
   "outputs": [],
   "source": [
    "import pandas as pd\n",
    "import os\n"
   ]
  },
  {
   "cell_type": "code",
   "execution_count": 2,
   "metadata": {},
   "outputs": [],
   "source": [
    "N_SUBJECTS = 11             # a folder for each subject\n",
    "INVALID_SUBJECTS = [6, 7]   # these subjects have missing data and will be ignored\n",
    "N_TRIALS = 42               # 6 repetitions of 7 gestures, the number of csv files in each subject folder\n",
    "N_REPETITIONS = 6           # repetitions of gestures in each trial\n",
    "N_GESTURES = 7              # number of gestures (which we will try to classify) "
   ]
  },
  {
   "cell_type": "code",
   "execution_count": 3,
   "metadata": {},
   "outputs": [],
   "source": [
    "# import data from csv files into a list of dataframes\n",
    "def import_data(path, transpose=False):\n",
    "\n",
    "    dataframes = []\n",
    "    # iterate over all subjects \n",
    "    valid_subjects_range = [i for i in range(1, N_SUBJECTS) if i not in INVALID_SUBJECTS]\n",
    "    for subject in valid_subjects_range:\n",
    "        folder = os.path.join(path, f'subject_{subject}')\n",
    "        for file in os.listdir(folder):\n",
    "            file_path = os.path.join(folder, file)\n",
    "            assert os.path.isfile(file_path), f\"File {file_path} is invalid!\"   # ensure that the file exists and are not invalid files/folders here\n",
    "            # transpose the data if it's EEG data\n",
    "            dataframe = pd.read_csv(file_path).transpose() if transpose else pd.read_csv(file_path)\n",
    "            # If column names are missing, rename them to \"channel_X\" \n",
    "            # This happens for EEG data, but we ensure that the column names will be the same for all dataframes\n",
    "            dataframe.columns = [f\"channel_{i+1}\" for i in range(len(dataframe.columns))]\n",
    "            dataframes.append(dataframe)\n",
    "\n",
    "    return dataframes\n",
    "\n",
    "eeg_data = import_data('original EEG Data', transpose=True)\n",
    "emg_data = import_data('original EMG Data', transpose=False)\n"
   ]
  },
  {
   "cell_type": "code",
   "execution_count": 6,
   "metadata": {},
   "outputs": [
    {
     "name": "stdout",
     "output_type": "stream",
     "text": [
      "Number of EEG dataframes: 336\n",
      "<class 'pandas.core.frame.DataFrame'>\n",
      "Index: 1349 entries, 0 to 1348\n",
      "Data columns (total 8 columns):\n",
      " #   Column     Non-Null Count  Dtype  \n",
      "---  ------     --------------  -----  \n",
      " 0   channel_1  1349 non-null   float64\n",
      " 1   channel_2  1349 non-null   float64\n",
      " 2   channel_3  1349 non-null   float64\n",
      " 3   channel_4  1349 non-null   float64\n",
      " 4   channel_5  1349 non-null   float64\n",
      " 5   channel_6  1349 non-null   float64\n",
      " 6   channel_7  1349 non-null   float64\n",
      " 7   channel_8  1349 non-null   float64\n",
      "dtypes: float64(8)\n",
      "memory usage: 94.9+ KB\n",
      "\n",
      "-----------------------------------\n",
      "\n",
      "Number of EMG dataframes: 336\n",
      "<class 'pandas.core.frame.DataFrame'>\n",
      "RangeIndex: 1592 entries, 0 to 1591\n",
      "Data columns (total 8 columns):\n",
      " #   Column     Non-Null Count  Dtype\n",
      "---  ------     --------------  -----\n",
      " 0   channel_1  1592 non-null   int64\n",
      " 1   channel_2  1592 non-null   int64\n",
      " 2   channel_3  1592 non-null   int64\n",
      " 3   channel_4  1592 non-null   int64\n",
      " 4   channel_5  1592 non-null   int64\n",
      " 5   channel_6  1592 non-null   int64\n",
      " 6   channel_7  1592 non-null   int64\n",
      " 7   channel_8  1592 non-null   int64\n",
      "dtypes: int64(8)\n",
      "memory usage: 99.6 KB\n"
     ]
    }
   ],
   "source": [
    "# inspect the raw data\n",
    "print(f\"Number of EEG dataframes: {len(eeg_data)}\")\n",
    "eeg_data[0].info()\n",
    "print(\"\\n-----------------------------------\\n\")\n",
    "print(f\"Number of EMG dataframes: {len(emg_data)}\")\n",
    "emg_data[0].info()"
   ]
  }
 ],
 "metadata": {
  "kernelspec": {
   "display_name": "vision",
   "language": "python",
   "name": "python3"
  },
  "language_info": {
   "codemirror_mode": {
    "name": "ipython",
    "version": 3
   },
   "file_extension": ".py",
   "mimetype": "text/x-python",
   "name": "python",
   "nbconvert_exporter": "python",
   "pygments_lexer": "ipython3",
   "version": "3.8.20"
  }
 },
 "nbformat": 4,
 "nbformat_minor": 2
}
