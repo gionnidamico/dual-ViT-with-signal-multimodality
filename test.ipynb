{
 "cells": [
  {
   "cell_type": "markdown",
   "metadata": {},
   "source": [
    "# Data"
   ]
  },
  {
   "cell_type": "code",
   "execution_count": 1,
   "metadata": {},
   "outputs": [
    {
     "name": "stdout",
     "output_type": "stream",
     "text": [
      "              0             1             2             3             4  \\\n",
      "0  11799.284732  25973.866996   8188.203953 -10663.927873 -35497.006535   \n",
      "1  11972.242531  25453.406626   8654.461343 -10467.009004 -35550.494260   \n",
      "2  12159.527798  28133.336083  11770.026299 -10468.461867 -35849.918228   \n",
      "3  12017.124834  29031.965617  11734.889356 -10659.748096 -35842.810374   \n",
      "4  11815.936782  26442.828946   8583.606313 -10681.473992 -35537.530248   \n",
      "\n",
      "             5             6            7  \n",
      "0  3438.838236  26879.157350  9470.367070  \n",
      "1  3470.309492  26851.307076  9466.455515  \n",
      "2  3275.894019  26572.066733  9239.048867  \n",
      "3  3213.420893  26560.130901  9208.002294  \n",
      "4  3404.304791  26842.925172  9432.570271  \n"
     ]
    }
   ],
   "source": [
    "import pandas as pd\n",
    "\n",
    "\n",
    "# Read the CSV file into a DataFrame\n",
    "df = pd.read_csv(\"EEG/Copy of fused_transposed_GG1.csv\")\n",
    "\n",
    "# Display the first few rows\n",
    "print(df.head())\n"
   ]
  },
  {
   "cell_type": "markdown",
   "metadata": {},
   "source": [
    "# Previous"
   ]
  },
  {
   "cell_type": "code",
   "execution_count": 2,
   "metadata": {},
   "outputs": [
    {
     "name": "stderr",
     "output_type": "stream",
     "text": [
      "c:\\Users\\damic\\anaconda3\\envs\\vision\\lib\\site-packages\\torchvision\\io\\image.py:14: UserWarning: Failed to load image Python extension: '[WinError 1920] Impossibile accedere al file'If you don't plan on using image functionality from `torchvision.io`, you can ignore this warning. Otherwise, there might be something wrong with your environment. Did you have `libjpeg` or `libpng` installed before building `torchvision` from source?\n",
      "  warn(\n"
     ]
    }
   ],
   "source": [
    "import torch\n",
    "import torch.nn as nn\n",
    "import torch.optim as optim\n",
    "from functools import partial\n",
    "from dualvit import dualvit_s"
   ]
  },
  {
   "cell_type": "code",
   "execution_count": 3,
   "metadata": {},
   "outputs": [
    {
     "name": "stdout",
     "output_type": "stream",
     "text": [
      "Starting Training...\n",
      "\n",
      "Starting Testing...\n",
      "Testing Accuracy: 21.25%\n"
     ]
    }
   ],
   "source": [
    "\n",
    "\n",
    "# Assuming dualvit_s and simulate_image are already defined\n",
    "# def dualvit_s(pretrained=False, **kwargs):\n",
    "#     model = DualViT(\n",
    "#         stem_hidden_dim=32,\n",
    "#         embed_dims=[64, 128, 320, 448],\n",
    "#         num_heads=[2, 4, 10, 14],\n",
    "#         mlp_ratios=[8, 8, 4, 3, 2],\n",
    "#         norm_layer=partial(nn.LayerNorm, eps=1e-6),\n",
    "#         depths=[3, 4, 6, 3],\n",
    "#         **kwargs)\n",
    "#     return model\n",
    "\n",
    "def simulate_image(batch_size=1, in_chans=3, height=224, width=224):\n",
    "    return torch.rand(batch_size, in_chans, height, width)\n",
    "\n",
    "# Parameters\n",
    "num_classes = 4\n",
    "batch_size = 16\n",
    "num_epochs = 5\n",
    "learning_rate = 0.001\n",
    "\n",
    "# Instantiate model, loss function, and optimizer\n",
    "model = dualvit_s(num_classes=num_classes)\n",
    "model.train()  # Set to training mode\n",
    "criterion = nn.CrossEntropyLoss()\n",
    "optimizer = optim.Adam(model.parameters(), lr=learning_rate)\n",
    "\n",
    "# Fake data loader\n",
    "def fake_data_loader(num_batches, batch_size, in_chans, height, width, num_classes):\n",
    "    for _ in range(num_batches):\n",
    "        images = simulate_image(batch_size, in_chans, height, width)\n",
    "        labels = torch.randint(0, num_classes, (batch_size,))\n",
    "        yield images, labels\n",
    "\n",
    "# Training loop\n",
    "print(\"Starting Training...\")\n",
    "total_loss = 0\n",
    "for images, labels in fake_data_loader(10, batch_size, 3, 224, 224, num_classes):\n",
    "    optimizer.zero_grad()  # Clear gradients\n",
    "    outputs = model(images)  # Forward pass\n",
    "    \n",
    "    # Extract logits if the model returns a tuple\n",
    "    if isinstance(outputs, tuple):\n",
    "        logits = outputs[0]\n",
    "    else:\n",
    "        logits = outputs\n",
    "\n",
    "    loss = criterion(logits, labels)  # Compute loss\n",
    "    loss.backward()  # Backward pass\n",
    "    optimizer.step()  # Update weights\n",
    "    total_loss += loss.item()\n",
    "\n",
    "\n",
    "# Testing loop\n",
    "print(\"\\nStarting Testing...\")\n",
    "model.eval()  # Set to evaluation mode\n",
    "num_correct = 0\n",
    "num_samples = 0\n",
    "with torch.no_grad():\n",
    "    for images, labels in fake_data_loader(5, batch_size, 3, 224, 224, num_classes):\n",
    "        outputs = model(images)\n",
    "        predictions = torch.argmax(outputs, dim=1)  # Get class with highest probability\n",
    "        num_correct += (predictions == labels).sum().item()\n",
    "        num_samples += labels.size(0)\n",
    "\n",
    "accuracy = num_correct / num_samples * 100\n",
    "print(f\"Testing Accuracy: {accuracy:.2f}%\")\n"
   ]
  }
 ],
 "metadata": {
  "kernelspec": {
   "display_name": "vision",
   "language": "python",
   "name": "python3"
  },
  "language_info": {
   "codemirror_mode": {
    "name": "ipython",
    "version": 3
   },
   "file_extension": ".py",
   "mimetype": "text/x-python",
   "name": "python",
   "nbconvert_exporter": "python",
   "pygments_lexer": "ipython3",
   "version": "3.8.20"
  }
 },
 "nbformat": 4,
 "nbformat_minor": 2
}
